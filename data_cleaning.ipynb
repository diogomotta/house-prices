{
 "cells": [
  {
   "cell_type": "code",
   "execution_count": 1,
   "metadata": {},
   "outputs": [],
   "source": [
    "# %load data_cleaning.py\n",
    "import numpy as np\n",
    "import pandas as pd\n",
    "import matplotlib.pyplot as plt\n",
    "import seaborn as sns\n",
    "import re\n",
    "\n",
    "# load data and take a look at it\n",
    "df_train = pd.read_csv(\"./data/train.csv\")\n",
    "df_test = pd.read_csv(\"./data/test.csv\")\n",
    "df_all = [df_train, df_test]\n"
   ]
  },
  {
   "cell_type": "code",
   "execution_count": 2,
   "metadata": {},
   "outputs": [
    {
     "data": {
      "text/plain": [
       "6965"
      ]
     },
     "execution_count": 2,
     "metadata": {},
     "output_type": "execute_result"
    }
   ],
   "source": [
    "df_train.isna().sum().sum()"
   ]
  },
  {
   "cell_type": "code",
   "execution_count": 3,
   "metadata": {},
   "outputs": [
    {
     "data": {
      "text/plain": [
       "7000"
      ]
     },
     "execution_count": 3,
     "metadata": {},
     "output_type": "execute_result"
    }
   ],
   "source": [
    "df_test.isna().sum().sum()"
   ]
  },
  {
   "cell_type": "code",
   "execution_count": 4,
   "metadata": {},
   "outputs": [],
   "source": [
    "def replace_nan(df, cols, strategy, value=None, group=None):\n",
    "    for col in cols:\n",
    "        if strategy == 'mean':\n",
    "            val = df.loc[df[col].isnull() == False, col].mean()\n",
    "            df[col].fillna(val, inplace=True)\n",
    "        elif strategy == 'median':\n",
    "            val = df.loc[df[col].isnull() == False, col].median()\n",
    "            df[col].fillna(val, inplace=True)\n",
    "        elif strategy == 'mode':\n",
    "            val = df.loc[df[col].isnull() == False, col].mode()[0]\n",
    "            df[col].fillna(val, inplace=True)\n",
    "        elif strategy == 'const':\n",
    "            val = value\n",
    "            df[col].fillna(val, inplace=True)\n",
    "        elif strategy == 'mean_group':\n",
    "            df[col] = df.groupby([group])[col].transform(lambda x: x.fillna(x.mean()))\n",
    "        elif strategy == 'median_group':\n",
    "            df[col] = df.groupby([group])[col].transform(lambda x: x.fillna(x.median()))\n",
    "        elif strategy == 'mode_group':\n",
    "            df[col] = df.groupby([group])[col].apply(lambda x: x.fillna(x.mode()[0]))"
   ]
  },
  {
   "cell_type": "code",
   "execution_count": 5,
   "metadata": {},
   "outputs": [],
   "source": [
    "mean_group_cols = ['LotFrontage', 'MasVnrArea', 'BsmtUnfSF', 'BsmtUnfSF']\n",
    "grp = 'Neighborhood'\n",
    "for df in df_all:\n",
    "    replace_nan(df, mean_group_cols, 'mean_group', group=grp)\n",
    "\n",
    "mode_group_cols = ['MSZoning', 'Utilities', 'Electrical', 'Exterior1st', 'Exterior2nd', 'Functional']\n",
    "grp = 'Neighborhood'\n",
    "for df in df_all:\n",
    "    replace_nan(df, mode_group_cols, 'mode_group', group=grp)\n",
    "\n",
    "none_cols = ['Alley', 'MasVnrType', 'BsmtQual', 'BsmtCond', 'BsmtExposure', 'BsmtFinType1', 'BsmtFinType2',\n",
    "             'FireplaceQu', 'GarageType', 'GarageYrBlt', 'GarageFinish', 'GarageQual', 'GarageCond', 'PoolQC',\n",
    "             'Fence', 'MiscFeature']\n",
    "for df in df_all:\n",
    "    replace_nan(df, none_cols, 'const', value='None')\n",
    "    \n",
    "zero_cols = ['GarageCars', 'GarageArea', 'BsmtFinSF1', 'BsmtFinSF2', 'BsmtFullBath', 'BsmtHalfBath', 'TotalBsmtSF']\n",
    "for df in df_all:\n",
    "    replace_nan(df, zero_cols, 'const', value=0)\n",
    "    \n",
    "    \n",
    "mode_cols = ['KitchenQual', 'SaleType']\n",
    "for df in df_all:\n",
    "    replace_nan(df, mode_cols, 'mode')"
   ]
  },
  {
   "cell_type": "code",
   "execution_count": 6,
   "metadata": {},
   "outputs": [
    {
     "data": {
      "text/plain": [
       "0"
      ]
     },
     "execution_count": 6,
     "metadata": {},
     "output_type": "execute_result"
    }
   ],
   "source": [
    "df_train.isna().sum().sum()"
   ]
  },
  {
   "cell_type": "code",
   "execution_count": 7,
   "metadata": {},
   "outputs": [
    {
     "data": {
      "text/plain": [
       "0"
      ]
     },
     "execution_count": 7,
     "metadata": {},
     "output_type": "execute_result"
    }
   ],
   "source": [
    "df_test.isna().sum().sum()"
   ]
  },
  {
   "cell_type": "code",
   "execution_count": null,
   "metadata": {},
   "outputs": [],
   "source": []
  }
 ],
 "metadata": {
  "kernelspec": {
   "display_name": "Python 3",
   "language": "python",
   "name": "python3"
  },
  "language_info": {
   "codemirror_mode": {
    "name": "ipython",
    "version": 3
   },
   "file_extension": ".py",
   "mimetype": "text/x-python",
   "name": "python",
   "nbconvert_exporter": "python",
   "pygments_lexer": "ipython3",
   "version": "3.7.4"
  }
 },
 "nbformat": 4,
 "nbformat_minor": 2
}
